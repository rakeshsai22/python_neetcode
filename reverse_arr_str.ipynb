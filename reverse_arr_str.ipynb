{
 "cells": [
  {
   "cell_type": "code",
   "execution_count": 18,
   "metadata": {},
   "outputs": [
    {
     "name": "stdout",
     "output_type": "stream",
     "text": [
      "htraE\n",
      "skeeG\n"
     ]
    }
   ],
   "source": [
    "# slicing\n",
    "\n",
    "# k=[starting index:ending index:steps]\n",
    "# Geeks\n",
    "# k = [1:4] = eek\n",
    "# k = [::-1]\n",
    "\n",
    "def reversestr(s):\n",
    "    # k = s[::-1]\n",
    "    k = s[::-1]\n",
    "    return k\n",
    "\n",
    "s1=\"Earth\"\n",
    "print(reversestr(s1))\n",
    "\n",
    "# function\n",
    "def reversestr_fun(s):\n",
    "    l=list(s)\n",
    "    # print(f\"s1:{s1}\")\n",
    "    l.reverse()\n",
    "    # print(f\"l:{l}\")\n",
    "    return \"\".join(l)\n",
    "    # return \"*\".join(l) - joins the list items like a string with the character in between the \" \", here *\n",
    "\n",
    "\n",
    "print(reversestr_fun(\"Geeks\"))\n"
   ]
  },
  {
   "cell_type": "code",
   "execution_count": 20,
   "metadata": {},
   "outputs": [
    {
     "data": {
      "text/plain": [
       "12"
      ]
     },
     "execution_count": 20,
     "metadata": {},
     "output_type": "execute_result"
    }
   ],
   "source": [
    "# Find max and min of an array\n",
    "\n",
    "#  N=5\n",
    "#  A[]={-2,1,-4,5,3}\n",
    "\n",
    "# max = 5\n",
    "# min = -4\n",
    "# ans = 1\n",
    "\n",
    "def findsum(A,N):\n",
    "    if N == 1:\n",
    "        return A[0]\n",
    "    if A[0]>A[1]:\n",
    "        maxi=A[0]\n",
    "        mini=A[1]\n",
    "    else:\n",
    "        mini = A[0]\n",
    "        maxi = A[1]\n",
    "    \n",
    "    for i in range(2,N):\n",
    "        if A[i]>maxi:\n",
    "            maxi=A[i]\n",
    "\n",
    "        elif A[i]<mini:\n",
    "            mini=A[i]\n",
    "    return maxi+mini\n",
    "\n",
    "\n",
    "a=[-1,2,3,-2,5,8,9,10,22,-10]\n",
    "findsum(a,10)"
   ]
  },
  {
   "cell_type": "code",
   "execution_count": 22,
   "metadata": {},
   "outputs": [
    {
     "data": {
      "text/plain": [
       "2"
      ]
     },
     "execution_count": 22,
     "metadata": {},
     "output_type": "execute_result"
    }
   ],
   "source": [
    "# Find the Kth smallest\n",
    "\n",
    "# N=8 ,\n",
    "# arr=[1,4,2,3,7,9,5,8]\n",
    "# ,k=3\n",
    "# output = 3\n",
    "def kthsmallest(arr,N,K):\n",
    "    if len(arr) ==0:\n",
    "        return a[0]\n",
    "    arr.sort()\n",
    "    return arr[K-1]\n",
    "arr=[1,4,2,0,7,9,5,8]\n",
    "kthsmallest(arr,8,3)\n",
    "# O(n)"
   ]
  },
  {
   "cell_type": "code",
   "execution_count": 23,
   "metadata": {},
   "outputs": [
    {
     "name": "stdout",
     "output_type": "stream",
     "text": [
      "[0, 0, 0, 1, 1, 1, 1, 1, 2, 2, 2, 2]\n"
     ]
    }
   ],
   "source": [
    "#  sorting 0s,1s,2s\n",
    "\n",
    "def sorting(arr):\n",
    "    count0=count1=count2=0\n",
    "    for i in range(len(arr)):\n",
    "        if arr[i] ==0:\n",
    "            count0+=1\n",
    "        elif arr[i] == 1:\n",
    "            count1+=1\n",
    "        elif arr[i] ==2:\n",
    "            count2+=1\n",
    "    j=0\n",
    "    while (count0>0):\n",
    "        arr[j]=0\n",
    "        j+=1\n",
    "        count0-=1\n",
    "    while (count1>0):\n",
    "        arr[j]=1\n",
    "        j+=1\n",
    "        count1-=1\n",
    "    while (count2>0):\n",
    "        arr[j]=2\n",
    "        j+=1\n",
    "        count2-=1\n",
    "\n",
    "    return arr\n",
    "\n",
    "arr=[1,1,2,2,0,2,1,0,2,1,0,1]\n",
    "print(sorting(arr))\n",
    "\n",
    "#  O(n)"
   ]
  },
  {
   "cell_type": "code",
   "execution_count": 25,
   "metadata": {},
   "outputs": [
    {
     "name": "stdout",
     "output_type": "stream",
     "text": [
      "[-1, -3, -6, 4, 3, 2, 3, 4, 5, 8]\n"
     ]
    }
   ],
   "source": [
    "# move all negatives to one side of the array\n",
    "\n",
    "#  take arr[0], arr[1] swap the numbers if arr[0]<0\n",
    "\n",
    "def move_negs(arr):\n",
    "    j=0 \n",
    "    #  for moving the negs left, j must be outside\n",
    "    for i in range(len(arr)):\n",
    "        if(arr[i]<0):\n",
    "            temp=0\n",
    "            temp=arr[i]\n",
    "            arr[i]=arr[j]\n",
    "            arr[j]=temp\n",
    "            j+=1\n",
    "\n",
    "        else:\n",
    "            continue\n",
    "    return arr\n",
    "\n",
    "arr=[2,3,-1,4,-3,-6,3,4,5,8]\n",
    "print(move_negs(arr))\n"
   ]
  },
  {
   "cell_type": "code",
   "execution_count": 26,
   "metadata": {},
   "outputs": [
    {
     "name": "stdout",
     "output_type": "stream",
     "text": [
      "[-1, -3, -6, 4, 3, 2, 3, 4, 5, 8]\n"
     ]
    }
   ],
   "source": [
    "# method 2\n",
    "\n",
    "def move_negs2(arr):\n",
    "    n=len(arr)\n",
    "    low,high=0,n-1\n",
    "    while (low<high):\n",
    "        if(arr[low]<0):\n",
    "            low+=1\n",
    "        elif (arr[high]>0):\n",
    "            high-=1\n",
    "        else:\n",
    "            arr[low],arr[high]=arr[high],arr[low]\n",
    "\n",
    "    return arr\n",
    "\n",
    "arr=[2,3,-1,4,-3,-6,3,4,5,8]\n",
    "print(move_negs(arr))\n"
   ]
  },
  {
   "cell_type": "code",
   "execution_count": 29,
   "metadata": {},
   "outputs": [
    {
     "name": "stdout",
     "output_type": "stream",
     "text": [
      "{1, 2, 3, 4, 5, 6, 7, 8}\n",
      "8\n"
     ]
    }
   ],
   "source": [
    "# union of two sorted arrays\n",
    "\n",
    "def union_sort_arr(arr1,arr2):\n",
    "    # union can't be used wiht lists\n",
    "    # so convert lists to sets\n",
    "    arr1=set(arr1)\n",
    "    arr2=set(arr2)\n",
    "# there would be no duplicates stored in sets\n",
    "    arr3=arr1.union(arr2)\n",
    "    print(arr3)\n",
    "    return len(arr3)\n",
    "a=[1,2,3,4,5]\n",
    "b=[2,4,3,2,6,7,8]\n",
    "print(union_sort_arr(a,b))"
   ]
  },
  {
   "cell_type": "code",
   "execution_count": 39,
   "metadata": {},
   "outputs": [
    {
     "name": "stdout",
     "output_type": "stream",
     "text": [
      "{1, 2, 3, 4, 5, 6, 7, 8}\n",
      "8\n"
     ]
    }
   ],
   "source": [
    "def union_sort_arr(arr1,arr2):\n",
    "    n=len(arr1)\n",
    "    m=len(arr2)\n",
    "\n",
    "    s=set()\n",
    "    # print(f\"initial s:{s}\")\n",
    "\n",
    "    for i in range(0,n):\n",
    "        s.add(arr1[i])\n",
    "        # print(f\"s_a{s}\")\n",
    "    for j in range(len(arr2)):\n",
    "        s.add(arr2[j])\n",
    "        # print(f\"s:{s}\")\n",
    "    print(s)\n",
    "    return len(s)\n",
    "a=[1,2,3,4,5]\n",
    "b=[2,4,3,2,6,7,8]\n",
    "\n",
    "print(union_sort_arr(a,b))"
   ]
  },
  {
   "cell_type": "code",
   "execution_count": 13,
   "metadata": {},
   "outputs": [
    {
     "name": "stdout",
     "output_type": "stream",
     "text": [
      "[5, 2, 3, 4, 5]\n"
     ]
    }
   ],
   "source": [
    "# cyclic array rotation\n",
    "\n",
    "# def rotate(arr,n):\n",
    "#     for i in range(n):\n",
    "#         arr[:]=arr[-1:] + arr[:-1]\n",
    "#     return arr\n",
    "\n",
    "# arr=[1,2,3,4,5]\n",
    "# print(rotate(arr,2))\n",
    "\n",
    "# METHOD2\n",
    "\n",
    "def rotate(arr,n):\n",
    "    for i in range(n):\n",
    "        a = arr[-1]\n",
    "        j=0\n",
    "        \n",
    "        for j in range(n-1,0,-1):\n",
    "            # for loop goes in reverse direction \n",
    "            arr[i]=arr[i-1]\n",
    "        arr[0]=a\n",
    "    return arr\n",
    "\n",
    "arr=[1,2,3,4,5]\n",
    "print(rotate(arr,1))"
   ]
  },
  {
   "cell_type": "code",
   "execution_count": 30,
   "metadata": {},
   "outputs": [
    {
     "name": "stdout",
     "output_type": "stream",
     "text": [
      "9\n"
     ]
    }
   ],
   "source": [
    "# maximum sum of contiguous subarray\n",
    "\n",
    "def max_sum_sub_arr(arr):\n",
    "    n=len(arr)\n",
    "    curr_max=arr[0]\n",
    "    total_max=arr[0]\n",
    "    pos_max_sum=arr[0]\n",
    "\n",
    "    for i in range(1,n):\n",
    "        curr_max = max(arr[i], curr_max + arr[i])\n",
    "        total_max= max(total_max,curr_max)\n",
    "        pos_max_sum = max(pos_max_sum,curr_max)\n",
    "        # if(pos_max_sum>curr_max):\n",
    "        #     return pos_max_sum\n",
    "        # print(total_max)\n",
    "    return total_max\n",
    "\n",
    "# arr=[1,2,3,4,5,-3]\n",
    "arr=[1,2,3,-2,5]\n",
    "print(max_sum_sub_arr(arr))"
   ]
  },
  {
   "cell_type": "code",
   "execution_count": null,
   "metadata": {},
   "outputs": [],
   "source": [
    "#  minimize the maximum difference between the heights\n",
    "\n"
   ]
  },
  {
   "cell_type": "code",
   "execution_count": null,
   "metadata": {},
   "outputs": [],
   "source": []
  }
 ],
 "metadata": {
  "kernelspec": {
   "display_name": "Python 3",
   "language": "python",
   "name": "python3"
  },
  "language_info": {
   "codemirror_mode": {
    "name": "ipython",
    "version": 3
   },
   "file_extension": ".py",
   "mimetype": "text/x-python",
   "name": "python",
   "nbconvert_exporter": "python",
   "pygments_lexer": "ipython3",
   "version": "3.9.6"
  }
 },
 "nbformat": 4,
 "nbformat_minor": 2
}
