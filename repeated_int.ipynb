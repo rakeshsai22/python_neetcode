{
 "cells": [
  {
   "cell_type": "code",
   "execution_count": 52,
   "metadata": {},
   "outputs": [
    {
     "name": "stdout",
     "output_type": "stream",
     "text": [
      "i:0\n",
      "i:1\n",
      "j:0\n",
      "i:2\n",
      "j:0\n",
      "j:1\n",
      "i:3\n",
      "j:0\n",
      "j:1\n",
      "j:2\n",
      "i:4\n",
      "j:0\n",
      "j:1\n",
      "j:2\n",
      "j:3\n",
      "i:5\n",
      "j:0\n",
      "j:1\n",
      "j:2\n",
      "j:3\n",
      "j:4\n",
      "[]\n"
     ]
    }
   ],
   "source": [
    "from typing import List\n",
    "class Solution:\n",
    "    def topKFrequent(self, nums: List[int], k: int) -> List[int]:\n",
    "        List1=[]\n",
    "        for i in range(len(nums)):\n",
    "            print(f\"i:{i}\")\n",
    "            for j in range(i):\n",
    "                count=0\n",
    "                print(f\"j:{j}\")\n",
    "                if(nums[i]==nums[j]):\n",
    "                    count=count+1\n",
    "                    if(count==k):\n",
    "                        List1.append(nums[i])\n",
    "                    else:\n",
    "                        continue\n",
    "                else:\n",
    "                    continue\n",
    "        return List1\n",
    "print(Solution().topKFrequent([1,1,2,2,3,3], 2))"
   ]
  },
  {
   "cell_type": "code",
   "execution_count": 54,
   "metadata": {},
   "outputs": [
    {
     "name": "stdout",
     "output_type": "stream",
     "text": [
      "Counter({1: 2, 2: 2, 3: 2})\n",
      "[(1, 2), (2, 2), (3, 2)]\n",
      "[1, 2, 3]\n"
     ]
    }
   ],
   "source": [
    "from collections import Counter\n",
    "\n",
    "class Solution:\n",
    "    def topKFrequent(self, nums: List[int], k: int) -> List[int]:\n",
    "        count = Counter(nums)\n",
    "        most_common = count.most_common()\n",
    "        print(count)\n",
    "        print(most_common)\n",
    "        \n",
    "        result = []\n",
    "        for num, freq in most_common:\n",
    "            if len(result) < k or freq == most_common[k-1][1]:\n",
    "                result.append(num)\n",
    "            else:\n",
    "                break\n",
    "        return result\n",
    "\n",
    "print(Solution().topKFrequent([1, 1, 2, 2, 3, 3], 2))\n"
   ]
  },
  {
   "cell_type": "code",
   "execution_count": null,
   "metadata": {},
   "outputs": [],
   "source": []
  }
 ],
 "metadata": {
  "kernelspec": {
   "display_name": "Python 3",
   "language": "python",
   "name": "python3"
  },
  "language_info": {
   "codemirror_mode": {
    "name": "ipython",
    "version": 3
   },
   "file_extension": ".py",
   "mimetype": "text/x-python",
   "name": "python",
   "nbconvert_exporter": "python",
   "pygments_lexer": "ipython3",
   "version": "3.9.6"
  }
 },
 "nbformat": 4,
 "nbformat_minor": 2
}
