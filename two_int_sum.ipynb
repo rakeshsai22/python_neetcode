{
 "cells": [
  {
   "cell_type": "code",
   "execution_count": 16,
   "metadata": {},
   "outputs": [
    {
     "name": "stdout",
     "output_type": "stream",
     "text": [
      "[0, 2]\n"
     ]
    }
   ],
   "source": [
    "class Solution:\n",
    "    def twoSum(self, nums: List[int], target: int) -> List[int]:\n",
    "        List = []\n",
    "        for i in range(len(nums)):\n",
    "            j = i + 1\n",
    "            while j < len(nums):\n",
    "                if (nums[i] + nums[j] == target) & (i != j):\n",
    "                    List.append(i)\n",
    "                    List.append(j)\n",
    "                    return List\n",
    "                else:\n",
    "                    j += 1\n",
    "\n",
    "sol_instance = Solution()\n",
    "result = sol_instance.twoSum([4, 5, 6], 10)\n",
    "print(result)"
   ]
  },
  {
   "cell_type": "code",
   "execution_count": null,
   "metadata": {},
   "outputs": [],
   "source": []
  }
 ],
 "metadata": {
  "kernelspec": {
   "display_name": "Python 3",
   "language": "python",
   "name": "python3"
  },
  "language_info": {
   "codemirror_mode": {
    "name": "ipython",
    "version": 3
   },
   "file_extension": ".py",
   "mimetype": "text/x-python",
   "name": "python",
   "nbconvert_exporter": "python",
   "pygments_lexer": "ipython3",
   "version": "3.9.6"
  }
 },
 "nbformat": 4,
 "nbformat_minor": 2
}
