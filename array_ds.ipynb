{
 "cells": [
  {
   "cell_type": "code",
   "execution_count": 8,
   "metadata": {},
   "outputs": [
    {
     "name": "stdout",
     "output_type": "stream",
     "text": [
      "In Feb, how many dollars you spent extra compare to January?\n",
      "150\n",
      "Find out your total expense in first quarter (first three months) of the year.\n",
      "7150\n",
      "Find out if you spent exactly 2000 dollars in any month\n",
      "False\n",
      "June month just finished and your expense is 1980 dollar. Add this item to our monthly expense list\n",
      "[2200, 2350, 2600, 2130, 2190, 1980]\n",
      "You returned an item that you bought in a month of April and got a refund of 200$. Make a correction to your monthly expense list based on this\n",
      "[2200, 2350, 2600, 1930, 2190, 1980]\n"
     ]
    }
   ],
   "source": [
    "list=[2200, 2350, 2600, 2130, 2190]\n",
    "print(\"In Feb, how many dollars you spent extra compare to January?\")\n",
    "print(list[1]-list[0])\n",
    "print(\"Find out your total expense in first quarter (first three months) of the year.\")\n",
    "print(list[0]+list[1]+list[2])\n",
    "print(\"Find out if you spent exactly 2000 dollars in any month\")\n",
    "print(2000 in list)\n",
    "print(\"June month just finished and your expense is 1980 dollar. Add this item to our monthly expense list\")\n",
    "list.append(1980)\n",
    "print(list)\n",
    "\n",
    "print(\"You returned an item that you bought in a month of April and got a refund of 200$. Make a correction to your monthly expense list based on this\")\n",
    "apr=list[3]-200\n",
    "list[3]=apr\n",
    "print(list )"
   ]
  },
  {
   "cell_type": "code",
   "execution_count": 21,
   "metadata": {},
   "outputs": [
    {
     "name": "stdout",
     "output_type": "stream",
     "text": [
      "5\n",
      "['spider man', 'thor', 'hulk', 'iron man', 'captain america', 'black panther']\n",
      "['spider man', 'thor', 'hulk', 'black panther', 'iron man', 'captain america']\n",
      "['black panther', 'captain america', 'doctor strange', 'iron man', 'spider man']\n"
     ]
    }
   ],
   "source": [
    "heros=['spider man','thor','hulk','iron man','captain america']\n",
    "print(len(heros))\n",
    "\n",
    "heros.append('black panther')\n",
    "print(heros)\n",
    "\n",
    "heros.remove('black panther')\n",
    "heros.insert(3,'black panther')\n",
    "print(heros)\n",
    "\n",
    "heros[1:3]=['doctor strange']\n",
    "heros.sort()\n",
    "print(heros)"
   ]
  },
  {
   "cell_type": "code",
   "execution_count": 33,
   "metadata": {},
   "outputs": [
    {
     "name": "stdout",
     "output_type": "stream",
     "text": [
      "[1, 3, 5, 7, 9, 11]\n"
     ]
    }
   ],
   "source": [
    "def odds(max_num):\n",
    "    list=[]\n",
    "    for i in range(1,max_num+1):\n",
    "        if i%2!=0:\n",
    "            list.append(i)\n",
    "    return list\n",
    "print(odds(11))    "
   ]
  },
  {
   "cell_type": "code",
   "execution_count": null,
   "metadata": {},
   "outputs": [],
   "source": []
  }
 ],
 "metadata": {
  "kernelspec": {
   "display_name": "Python 3",
   "language": "python",
   "name": "python3"
  },
  "language_info": {
   "codemirror_mode": {
    "name": "ipython",
    "version": 3
   },
   "file_extension": ".py",
   "mimetype": "text/x-python",
   "name": "python",
   "nbconvert_exporter": "python",
   "pygments_lexer": "ipython3",
   "version": "3.9.6"
  }
 },
 "nbformat": 4,
 "nbformat_minor": 2
}
