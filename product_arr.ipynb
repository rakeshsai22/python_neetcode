{
 "cells": [
  {
   "cell_type": "code",
   "execution_count": 75,
   "metadata": {},
   "outputs": [
    {
     "name": "stdout",
     "output_type": "stream",
     "text": [
      "len(nums):4\n",
      "j:1\n",
      "nums[:i]:[1]\n",
      "j:1\n",
      "nums[:i]:[1, 0]\n",
      "j:0\n",
      "nums[:i]:[1, 0]\n",
      "j:1\n",
      "nums[:i]:[1, 0, 3]\n",
      "j:0\n",
      "nums[:i]:[1, 0, 3]\n",
      "j:3\n",
      "nums[:i]:[1, 0, 3]\n",
      "[0, 12, 0, 0]\n"
     ]
    }
   ],
   "source": [
    "from typing import List\n",
    "class Solution:\n",
    "    def productExceptSelf(self, nums: List[int]) -> List[int]:\n",
    "        List = []\n",
    "        print(f\"len(nums):{len(nums)}\")\n",
    "        for i in range(len(nums)):\n",
    "            product = 1\n",
    "            for j in nums[:i]:\n",
    "                print(f\"j:{j}\")\n",
    "                print(f\"nums[:i]:{nums[:i]}\")\n",
    "                product *= j\n",
    "            for k in nums[i+1:]:\n",
    "                product *= k\n",
    "            List.append(product)\n",
    "        return List\n",
    "\n",
    "print(Solution().productExceptSelf([1,0,3,4]))\n",
    "        "
   ]
  },
  {
   "cell_type": "code",
   "execution_count": 16,
   "metadata": {},
   "outputs": [
    {
     "name": "stdout",
     "output_type": "stream",
     "text": [
      "24.0\n"
     ]
    }
   ],
   "source": [
    "def multiply(lst):\n",
    "    product = 1\n",
    "    for element in lst:\n",
    "        product *= element\n",
    "    return product\n",
    "\n",
    "numbers = [1, 2, 3, 4, 5]\n",
    "result = multiply(numbers)\n",
    "print(result)"
   ]
  },
  {
   "cell_type": "code",
   "execution_count": 76,
   "metadata": {},
   "outputs": [
    {
     "name": "stdout",
     "output_type": "stream",
     "text": [
      "[0, 12, 0, 0]\n"
     ]
    }
   ],
   "source": [
    "from typing import List\n",
    "\n",
    "class Solution:\n",
    "    def productExceptSelf(self, nums: List[int]) -> List[int]:\n",
    "        n = len(nums)\n",
    "        result = [1] * n  # Initialize the result array with 1s.\n",
    "        \n",
    "        # Calculate left products.\n",
    "        left_product = 1\n",
    "        for i in range(n):\n",
    "            result[i] = left_product\n",
    "            left_product *= nums[i]\n",
    "        \n",
    "        # Calculate right products and update result.\n",
    "        right_product = 1\n",
    "        for i in range(n - 1, -1, -1):\n",
    "            result[i] *= right_product\n",
    "            right_product *= nums[i]\n",
    "        \n",
    "        return result\n",
    "\n",
    "# Test the optimized code.\n",
    "print(Solution().productExceptSelf([1, 0, 3, 4]))\n"
   ]
  },
  {
   "cell_type": "code",
   "execution_count": null,
   "metadata": {},
   "outputs": [],
   "source": []
  }
 ],
 "metadata": {
  "kernelspec": {
   "display_name": "Python 3",
   "language": "python",
   "name": "python3"
  },
  "language_info": {
   "codemirror_mode": {
    "name": "ipython",
    "version": 3
   },
   "file_extension": ".py",
   "mimetype": "text/x-python",
   "name": "python",
   "nbconvert_exporter": "python",
   "pygments_lexer": "ipython3",
   "version": "3.6.8"
  }
 },
 "nbformat": 4,
 "nbformat_minor": 2
}
