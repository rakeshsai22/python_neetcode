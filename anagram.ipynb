{
 "cells": [
  {
   "cell_type": "code",
   "execution_count": 1,
   "metadata": {},
   "outputs": [],
   "source": [
    "class Solution:\n",
    "    def isAnagram(self, s: str, t: str) -> bool:\n",
    "        # for a in range(len(s)-1):\n",
    "        #     for i in range(a+1,len(s)):\n",
    "        #         print(a)\n",
    "        #         if(s[a] == s[i]):\n",
    "        #             print(s[a],s[i])\n",
    "                    # return True\n",
    "\n",
    "        if(sorted(s)==sorted(t)):\n",
    "            return True\n",
    "            \n",
    "        return False\n",
    "\n",
    "s=Solution()  "
   ]
  },
  {
   "cell_type": "code",
   "execution_count": 4,
   "metadata": {},
   "outputs": [
    {
     "name": "stdout",
     "output_type": "stream",
     "text": [
      "True\n"
     ]
    }
   ],
   "source": [
    "out = s.isAnagram(\"anagram\",\"nagaram\")\n",
    "print(out)"
   ]
  },
  {
   "cell_type": "code",
   "execution_count": 46,
   "metadata": {},
   "outputs": [
    {
     "name": "stdout",
     "output_type": "stream",
     "text": [
      "[['eat', 'tea'], ['bat'], ['tan', 'nat']]\n"
     ]
    }
   ],
   "source": [
    "from typing import List\n",
    "\n",
    "class Solution:\n",
    "    def groupAnagrams(self, strs: List[str]) -> List[List[str]]:\n",
    "        result = []\n",
    "        seen = set()\n",
    "        for str in strs:\n",
    "            if str not in seen:\n",
    "                sub_list = [s for s in strs if sorted(s) == sorted(str)]\n",
    "                result.append(sub_list)\n",
    "                seen.update(sub_list)\n",
    "        return result\n",
    "\n",
    "sol_instance = Solution()\n",
    "print(sol_instance.groupAnagrams([\"eat\", \"bat\", \"tea\", \"tan\", \"nat\"]))"
   ]
  },
  {
   "cell_type": "code",
   "execution_count": null,
   "metadata": {},
   "outputs": [],
   "source": []
  }
 ],
 "metadata": {
  "kernelspec": {
   "display_name": "Python 3",
   "language": "python",
   "name": "python3"
  },
  "language_info": {
   "codemirror_mode": {
    "name": "ipython",
    "version": 3
   },
   "file_extension": ".py",
   "mimetype": "text/x-python",
   "name": "python",
   "nbconvert_exporter": "python",
   "pygments_lexer": "ipython3",
   "version": "3.9.6"
  }
 },
 "nbformat": 4,
 "nbformat_minor": 2
}
