{
 "cells": [
  {
   "cell_type": "code",
   "execution_count": 24,
   "metadata": {},
   "outputs": [
    {
     "name": "stdout",
     "output_type": "stream",
     "text": [
      "s: wasitacaroracatisaw\n",
      "19\n",
      "0 -1\n",
      "w w\n",
      "1 -2\n",
      "a a\n",
      "2 -3\n",
      "s s\n",
      "3 -4\n",
      "i i\n",
      "4 -5\n",
      "t t\n",
      "5 -6\n",
      "a a\n",
      "6 -7\n",
      "c c\n",
      "7 -8\n",
      "a a\n",
      "8 -9\n",
      "r r\n",
      "True\n"
     ]
    }
   ],
   "source": [
    "class Solution:\n",
    "    def isPalindrome(self, s: str) -> bool:\n",
    "        # s = ''.join(filter(str.isalnum, s)).lower() \n",
    "        s=s.replace(\" \", \"\").lower()\n",
    "        print(f\"s: {s}\")\n",
    "        print(len(s))\n",
    "        flag = True\n",
    "        for i in range(len(s) // 2):\n",
    "            if s[i] == s[-(i + 1)]:\n",
    "                print(i, -(i + 1))\n",
    "                print(s[i], s[-(i + 1)])\n",
    "                continue\n",
    "            else:\n",
    "                flag = False\n",
    "                break\n",
    "                \n",
    "        return flag\n",
    "\n",
    "print(Solution().isPalindrome(\"Was it a car or a cat I saw\"))"
   ]
  },
  {
   "cell_type": "code",
   "execution_count": null,
   "metadata": {},
   "outputs": [],
   "source": []
  }
 ],
 "metadata": {
  "kernelspec": {
   "display_name": "Python 3",
   "language": "python",
   "name": "python3"
  },
  "language_info": {
   "codemirror_mode": {
    "name": "ipython",
    "version": 3
   },
   "file_extension": ".py",
   "mimetype": "text/x-python",
   "name": "python",
   "nbconvert_exporter": "python",
   "pygments_lexer": "ipython3",
   "version": "3.9.6"
  }
 },
 "nbformat": 4,
 "nbformat_minor": 2
}
