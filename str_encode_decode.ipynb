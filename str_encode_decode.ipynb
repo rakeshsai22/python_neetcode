{
 "cells": [
  {
   "cell_type": "code",
   "execution_count": 12,
   "metadata": {},
   "outputs": [],
   "source": [
    "from typing import List\n",
    "class Solution:\n",
    "    def encode(self, strs: List[str]) -> str:\n",
    "        str1=''\n",
    "        for str in strs:\n",
    "            str.replace(',',\" \")\n",
    "            str1+=str+\" \"\n",
    "        return str1\n",
    "    def decode(self, s: str) -> List[str]:\n",
    "        str2=[]\n",
    "        str3=''\n",
    "        for i in range(len(s)):\n",
    "            if s[i]==',':\n",
    "                str2.append(str3)\n",
    "                str3=''\n",
    "            else:\n",
    "                str3+=s[i]\n",
    "        return str2\n"
   ]
  },
  {
   "cell_type": "code",
   "execution_count": 13,
   "metadata": {},
   "outputs": [
    {
     "name": "stdout",
     "output_type": "stream",
     "text": [
      "neet code love you \n",
      "['neet', 'code', 'love']\n"
     ]
    }
   ],
   "source": [
    "print(Solution().encode([\"neet\",\"code\",\"love\",\"you\"]))\n",
    "print(Solution().decode(\"neet,code,love,you\"))"
   ]
  },
  {
   "cell_type": "code",
   "execution_count": 24,
   "metadata": {},
   "outputs": [
    {
     "name": "stdout",
     "output_type": "stream",
     "text": [
      "['neet', 'code', 'love', 'you']\n"
     ]
    }
   ],
   "source": [
    "class Solution:\n",
    "    def encode(self, strs: List[str]) -> str:\n",
    "        str1 = ''\n",
    "        for str4 in strs:\n",
    "            str1 += str4 + \",\"\n",
    "        str1 = str1.strip(\",\")\n",
    "        return str1\n",
    "\n",
    "    def decode(self, s: str) -> List[str]:\n",
    "        str5 = []\n",
    "        temp = -1\n",
    "        for i in range(len(s)):\n",
    "            if s[i] == \",\":\n",
    "                str5.append(s[temp + 1:i])\n",
    "                temp = i\n",
    "        str5.append(s[temp + 1:])\n",
    "        return str5\n",
    "\n",
    "str0=[\"neet\",\"code\",\"love\",\"you\"]\n",
    "str0 = Solution().encode(str0)\n",
    "print(Solution().decode(str0))"
   ]
  },
  {
   "cell_type": "code",
   "execution_count": null,
   "metadata": {},
   "outputs": [],
   "source": []
  }
 ],
 "metadata": {
  "kernelspec": {
   "display_name": "Python 3",
   "language": "python",
   "name": "python3"
  },
  "language_info": {
   "codemirror_mode": {
    "name": "ipython",
    "version": 3
   },
   "file_extension": ".py",
   "mimetype": "text/x-python",
   "name": "python",
   "nbconvert_exporter": "python",
   "pygments_lexer": "ipython3",
   "version": "3.9.6"
  }
 },
 "nbformat": 4,
 "nbformat_minor": 2
}
