{
 "cells": [
  {
   "cell_type": "code",
   "execution_count": 27,
   "metadata": {},
   "outputs": [
    {
     "name": "stdout",
     "output_type": "stream",
     "text": [
      "-1\n"
     ]
    }
   ],
   "source": [
    "from typing import List\n",
    "class Solution:\n",
    "    def longestConsecutive(self, nums: List[int]) -> int:\n",
    "        List=[]\n",
    "        count=-1\n",
    "        if len(nums)==0:\n",
    "            return 0\n",
    "        elif len(nums)==1:\n",
    "            return 1\n",
    "        for i in range(len(nums)-1):\n",
    "            for j in nums:\n",
    "                cons=j+1\n",
    "                if(cons == nums[i+1]):\n",
    "                    print(f\"cons:{cons} nums[i+1]:{nums[i+1]}\")\n",
    "                    count+=1\n",
    "        return count\n",
    "    \n",
    "print(Solution().longestConsecutive([0,0]))"
   ]
  },
  {
   "cell_type": "code",
   "execution_count": 30,
   "metadata": {},
   "outputs": [
    {
     "name": "stdout",
     "output_type": "stream",
     "text": [
      "0\n"
     ]
    }
   ],
   "source": [
    "from typing import List\n",
    "class Solution:\n",
    "    def longestConsecutive(self, nums: List[int]) -> int:\n",
    "        List=[]\n",
    "        count=0\n",
    "        if len(nums)==0:\n",
    "            return 0\n",
    "        elif len(nums)==1:\n",
    "            return 1\n",
    "        else:\n",
    "            for j in nums:\n",
    "                cons=j+1\n",
    "                if(cons == j):\n",
    "                    print(f\"cons:{cons} nums[i+1]:{nums[i+1]}\")\n",
    "                    count+=1\n",
    "        return count\n",
    "    \n",
    "print(Solution().longestConsecutive([0,0]))"
   ]
  },
  {
   "cell_type": "code",
   "execution_count": 15,
   "metadata": {},
   "outputs": [
    {
     "name": "stdout",
     "output_type": "stream",
     "text": [
      "sorted list:[2, 3, 4, 4, 5, 10, 20]\n",
      "cons:3 nums[i+1]:3\n",
      "cons:4 nums[i+1]:4\n",
      "cons:4 nums[i+1]:4\n",
      "cons:5 nums[i+1]:5\n",
      "cons:5 nums[i+1]:5\n"
     ]
    },
    {
     "ename": "IndexError",
     "evalue": "list index out of range",
     "output_type": "error",
     "traceback": [
      "\u001b[0;31m---------------------------------------------------------------------------\u001b[0m",
      "\u001b[0;31mIndexError\u001b[0m                                Traceback (most recent call last)",
      "Cell \u001b[0;32mIn[15], line 17\u001b[0m\n\u001b[1;32m     14\u001b[0m                     count\u001b[38;5;241m+\u001b[39m\u001b[38;5;241m=\u001b[39m\u001b[38;5;241m1\u001b[39m\n\u001b[1;32m     15\u001b[0m         \u001b[38;5;28;01mreturn\u001b[39;00m count\n\u001b[0;32m---> 17\u001b[0m \u001b[38;5;28mprint\u001b[39m(\u001b[43mSolution\u001b[49m\u001b[43m(\u001b[49m\u001b[43m)\u001b[49m\u001b[38;5;241;43m.\u001b[39;49m\u001b[43mlongestConsecutive\u001b[49m\u001b[43m(\u001b[49m\u001b[43m[\u001b[49m\u001b[38;5;241;43m2\u001b[39;49m\u001b[43m,\u001b[49m\u001b[38;5;241;43m20\u001b[39;49m\u001b[43m,\u001b[49m\u001b[38;5;241;43m4\u001b[39;49m\u001b[43m,\u001b[49m\u001b[38;5;241;43m10\u001b[39;49m\u001b[43m,\u001b[49m\u001b[38;5;241;43m3\u001b[39;49m\u001b[43m,\u001b[49m\u001b[38;5;241;43m4\u001b[39;49m\u001b[43m,\u001b[49m\u001b[38;5;241;43m5\u001b[39;49m\u001b[43m]\u001b[49m\u001b[43m)\u001b[49m)\n",
      "Cell \u001b[0;32mIn[15], line 12\u001b[0m, in \u001b[0;36mSolution.longestConsecutive\u001b[0;34m(self, nums)\u001b[0m\n\u001b[1;32m     10\u001b[0m \u001b[38;5;28;01mfor\u001b[39;00m j \u001b[38;5;129;01min\u001b[39;00m List:\n\u001b[1;32m     11\u001b[0m     cons\u001b[38;5;241m=\u001b[39mj\u001b[38;5;241m+\u001b[39m\u001b[38;5;241m1\u001b[39m\n\u001b[0;32m---> 12\u001b[0m     \u001b[38;5;28;01mif\u001b[39;00m(cons \u001b[38;5;241m==\u001b[39m \u001b[43mList\u001b[49m\u001b[43m[\u001b[49m\u001b[43mi\u001b[49m\u001b[38;5;241;43m+\u001b[39;49m\u001b[38;5;241;43m1\u001b[39;49m\u001b[43m]\u001b[49m):\n\u001b[1;32m     13\u001b[0m         \u001b[38;5;28mprint\u001b[39m(\u001b[38;5;124mf\u001b[39m\u001b[38;5;124m\"\u001b[39m\u001b[38;5;124mcons:\u001b[39m\u001b[38;5;132;01m{\u001b[39;00mcons\u001b[38;5;132;01m}\u001b[39;00m\u001b[38;5;124m nums[i+1]:\u001b[39m\u001b[38;5;132;01m{\u001b[39;00mList[i\u001b[38;5;241m+\u001b[39m\u001b[38;5;241m1\u001b[39m]\u001b[38;5;132;01m}\u001b[39;00m\u001b[38;5;124m\"\u001b[39m)\n\u001b[1;32m     14\u001b[0m         count\u001b[38;5;241m+\u001b[39m\u001b[38;5;241m=\u001b[39m\u001b[38;5;241m1\u001b[39m\n",
      "\u001b[0;31mIndexError\u001b[0m: list index out of range"
     ]
    }
   ],
   "source": [
    "from typing import List\n",
    "class Solution:\n",
    "    def longestConsecutive(self, nums: List[int]) -> int:\n",
    "        List=[]\n",
    "        nums.sort()\n",
    "        List = nums\n",
    "        print(f\"sorted list:{List}\")\n",
    "        count=0\n",
    "        for i in range(len(List)):\n",
    "            for j in List:\n",
    "                cons=j+1\n",
    "                if(cons == List[i+1]):\n",
    "                    print(f\"cons:{cons} nums[i+1]:{List[i+1]}\")\n",
    "                    count+=1\n",
    "        return count\n",
    "    \n",
    "print(Solution().longestConsecutive([2,20,4,10,3,4,5]))"
   ]
  },
  {
   "cell_type": "code",
   "execution_count": null,
   "metadata": {},
   "outputs": [],
   "source": []
  }
 ],
 "metadata": {
  "kernelspec": {
   "display_name": "Python 3",
   "language": "python",
   "name": "python3"
  },
  "language_info": {
   "codemirror_mode": {
    "name": "ipython",
    "version": 3
   },
   "file_extension": ".py",
   "mimetype": "text/x-python",
   "name": "python",
   "nbconvert_exporter": "python",
   "pygments_lexer": "ipython3",
   "version": "3.6.8"
  }
 },
 "nbformat": 4,
 "nbformat_minor": 2
}
