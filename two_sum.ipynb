{
 "cells": [
  {
   "cell_type": "code",
   "execution_count": 28,
   "metadata": {},
   "outputs": [
    {
     "name": "stdout",
     "output_type": "stream",
     "text": [
      "num_dict: {}\n",
      "complement: 5\n",
      "num_dict: {1: 0}\n",
      "complement: 4\n",
      "num_dict: {1: 0, 2: 1}\n",
      "complement: 3\n",
      "num_dict: {1: 0, 2: 1, 3: 2}\n",
      "complement: 2\n",
      "[1, 3]\n"
     ]
    }
   ],
   "source": [
    "from typing import List\n",
    "\n",
    "class Solution:\n",
    "    def twoSum(self, numbers: List[int], target: int) -> List[int]:\n",
    "        List1 = []\n",
    "        for i in range(len(numbers)):\n",
    "            for j in range(i + 1, len(numbers)):\n",
    "                if (numbers[i] + numbers[j]) == target:\n",
    "                    print(i, j)\n",
    "                    List1.append(numbers[i])\n",
    "                    List1.append(numbers[j])\n",
    "        return List1\n",
    "\n",
    "numbers = [2, 3, 4]\n",
    "solution = Solution()\n",
    "print(solution.twoSum(numbers, 6))\n"
   ]
  },
  {
   "cell_type": "code",
   "execution_count": null,
   "metadata": {},
   "outputs": [],
   "source": []
  }
 ],
 "metadata": {
  "kernelspec": {
   "display_name": "Python 3",
   "language": "python",
   "name": "python3"
  },
  "language_info": {
   "codemirror_mode": {
    "name": "ipython",
    "version": 3
   },
   "file_extension": ".py",
   "mimetype": "text/x-python",
   "name": "python",
   "nbconvert_exporter": "python",
   "pygments_lexer": "ipython3",
   "version": "3.9.6"
  }
 },
 "nbformat": 4,
 "nbformat_minor": 2
}
